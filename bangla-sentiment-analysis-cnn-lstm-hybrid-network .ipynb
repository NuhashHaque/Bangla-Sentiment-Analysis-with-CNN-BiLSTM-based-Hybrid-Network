{
 "cells": [
  {
   "cell_type": "markdown",
   "execution_count": null,
   "metadata": {
    "papermill": {
     "duration": 0.012335,
     "end_time": "2020-08-29T09:36:15.958969",
     "exception": false,
     "start_time": "2020-08-29T09:36:15.946634",
     "status": "completed"
    },
    "tags": []
   },
   "source": [
    "# Introduction\n",
    "In this Notebook i have done binary classification of Sentiment on a dataset that contains annotated Bangla texts.I have tried to use a deep learning based hybrid network with CNN an LSTM.Through hyper parameter tuning,i have achieved an accuracy of 84% with somewhat overfitting.\n",
    "\n",
    "My main focus of this notebook is to see the impact of hybrid CNN-BiLSTM model in bangla sentiment analysis and newbie Bangla NLP researchers like me can get a better intution."
   ]
  },
  {
   "cell_type": "markdown",
   "execution_count": null,
   "metadata": {
    "papermill": {
     "duration": 0.011719,
     "end_time": "2020-08-29T09:36:15.981279",
     "exception": false,
     "start_time": "2020-08-29T09:36:15.969560",
     "status": "completed"
    },
    "tags": []
   },
   "source": [
    "# Library & Package Import\n",
    "I have used KERAS to implement CNN and LSTM in this dataset."
   ]
  },
  {
   "cell_type": "code",
   "execution_count": 1,
   "metadata": {
    "execution": {
     "iopub.execute_input": "2020-08-29T09:36:16.013048Z",
     "iopub.status.busy": "2020-08-29T09:36:16.010776Z",
     "iopub.status.idle": "2020-08-29T09:36:24.626305Z",
     "shell.execute_reply": "2020-08-29T09:36:24.625558Z"
    },
    "papermill": {
     "duration": 8.634984,
     "end_time": "2020-08-29T09:36:24.626494",
     "exception": false,
     "start_time": "2020-08-29T09:36:15.991510",
     "status": "completed"
    },
    "tags": []
   },
   "outputs": [],
   "source": [
    "import pandas as pd\n",
    "from pandas import read_excel\n",
    "import numpy as np\n",
    "import re\n",
    "from re import sub\n",
    "import multiprocessing\n",
    "from unidecode import unidecode\n",
    "import os\n",
    "from time import time \n",
    "import tensorflow as tf\n",
    "import keras\n",
    "from keras.models import Sequential\n",
    "from keras.layers import LSTM,Dense,Dropout,Activation,Embedding,Flatten,Bidirectional,MaxPooling2D, Conv1D, MaxPooling1D\n",
    "from keras.optimizers import SGD,Adam\n",
    "from keras import regularizers\n",
    "from keras.preprocessing.text import Tokenizer\n",
    "from keras.preprocessing.sequence import pad_sequences\n",
    "from keras.utils.np_utils import to_categorical\n",
    "import h5py\n",
    "import csv\n",
    "import seaborn as sns\n",
    "import matplotlib.pyplot as plt\n",
    "from sklearn.model_selection import train_test_split\n",
    "from sklearn.model_selection import StratifiedKFold"
   ]
  },
  {
   "cell_type": "markdown",
   "execution_count": null,
   "metadata": {
    "papermill": {
     "duration": 0.009881,
     "end_time": "2020-08-29T09:36:24.646568",
     "exception": false,
     "start_time": "2020-08-29T09:36:24.636687",
     "status": "completed"
    },
    "tags": []
   },
   "source": [
    "# Predefined Functions \n",
    "I have predefined some functions for the preprocessing of my texts.The dataset contains raw text data that have many unwanted things\n",
    "(Punctuations,English words,emojis etc..).I have cleaned this things with my function."
   ]
  },
  {
   "cell_type": "code",
   "execution_count": 2,
   "metadata": {
    "execution": {
     "iopub.execute_input": "2020-08-29T09:36:24.682336Z",
     "iopub.status.busy": "2020-08-29T09:36:24.681181Z",
     "iopub.status.idle": "2020-08-29T09:36:24.683917Z",
     "shell.execute_reply": "2020-08-29T09:36:24.684510Z"
    },
    "papermill": {
     "duration": 0.028242,
     "end_time": "2020-08-29T09:36:24.684693",
     "exception": false,
     "start_time": "2020-08-29T09:36:24.656451",
     "status": "completed"
    },
    "tags": []
   },
   "outputs": [],
   "source": [
    "def text_to_word_list(text):\n",
    "    text = text.split()\n",
    "    return text\n",
    "\n",
    "def replace_strings(text):\n",
    "    emoji_pattern = re.compile(\"[\"\n",
    "                           u\"\\U0001F600-\\U0001F64F\"  # emoticons\n",
    "                           u\"\\U0001F300-\\U0001F5FF\"  # symbols & pictographs\n",
    "                           u\"\\U0001F680-\\U0001F6FF\"  # transport & map symbols\n",
    "                           u\"\\U0001F1E0-\\U0001F1FF\"  # flags (iOS)\n",
    "                           u\"\\U00002702-\\U000027B0\"\n",
    "                           u\"\\U000024C2-\\U0001F251\"\n",
    "                           u\"\\u00C0-\\u017F\"          #latin\n",
    "                           u\"\\u2000-\\u206F\"          #generalPunctuations\n",
    "                               \n",
    "                           \"]+\", flags=re.UNICODE)\n",
    "    english_pattern=re.compile('[a-zA-Z0-9]+', flags=re.I)\n",
    "    #latin_pattern=re.compile('[A-Za-z\\u00C0-\\u00D6\\u00D8-\\u00f6\\u00f8-\\u00ff\\s]*',)\n",
    "    \n",
    "    text=emoji_pattern.sub(r'', text)\n",
    "    text=english_pattern.sub(r'', text)\n",
    "\n",
    "    return text\n",
    "\n",
    "def remove_punctuations(my_str):\n",
    "    # define punctuation\n",
    "    punctuations = '''```\u0012\u0010\u0002\b`\u0007\b£|¢|\u0007Ñ+-*/=EROero৳০১২৩৪৫৬৭৮৯012–34567•89।!()-[]{};:'\"“\\’,<>./?@#$%^&*_~‘—॥”‰⚽️✌�￰৷￰'''\n",
    "    \n",
    "    no_punct = \"\"\n",
    "    for char in my_str:\n",
    "        if char not in punctuations:\n",
    "            no_punct = no_punct + char\n",
    "\n",
    "    # display the unpunctuated string\n",
    "    return no_punct\n",
    "\n",
    "\n",
    "\n",
    "def joining(text):\n",
    "    out=' '.join(text)\n",
    "    return out\n",
    "\n",
    "def preprocessing(text):\n",
    "    out=remove_punctuations(replace_strings(text))\n",
    "    return out"
   ]
  },
  {
   "cell_type": "markdown",
   "execution_count": null,
   "metadata": {
    "papermill": {
     "duration": 0.009759,
     "end_time": "2020-08-29T09:36:24.704583",
     "exception": false,
     "start_time": "2020-08-29T09:36:24.694824",
     "status": "completed"
    },
    "tags": []
   },
   "source": [
    "# Data Import\n",
    "The data is in excel file.I have about 6500+ in this dataset.The data is either positive or negative.\n",
    "I have annotated \"0\" as Negative and \"1\" as Positive."
   ]
  },
  {
   "cell_type": "code",
   "execution_count": 3,
   "metadata": {
    "execution": {
     "iopub.execute_input": "2020-08-29T09:36:24.730380Z",
     "iopub.status.busy": "2020-08-29T09:36:24.729640Z",
     "iopub.status.idle": "2020-08-29T09:36:25.754179Z",
     "shell.execute_reply": "2020-08-29T09:36:25.754875Z"
    },
    "papermill": {
     "duration": 1.040497,
     "end_time": "2020-08-29T09:36:25.755049",
     "exception": false,
     "start_time": "2020-08-29T09:36:24.714552",
     "status": "completed"
    },
    "tags": []
   },
   "outputs": [
    {
     "data": {
      "text/html": [
       "<div>\n",
       "<style scoped>\n",
       "    .dataframe tbody tr th:only-of-type {\n",
       "        vertical-align: middle;\n",
       "    }\n",
       "\n",
       "    .dataframe tbody tr th {\n",
       "        vertical-align: top;\n",
       "    }\n",
       "\n",
       "    .dataframe thead th {\n",
       "        text-align: right;\n",
       "    }\n",
       "</style>\n",
       "<table border=\"1\" class=\"dataframe\">\n",
       "  <thead>\n",
       "    <tr style=\"text-align: right;\">\n",
       "      <th></th>\n",
       "      <th>Unnamed: 0</th>\n",
       "      <th>Unnamed: 1</th>\n",
       "      <th>Unnamed: 2</th>\n",
       "      <th>sentence</th>\n",
       "      <th>sentiment</th>\n",
       "    </tr>\n",
       "  </thead>\n",
       "  <tbody>\n",
       "    <tr>\n",
       "      <th>0</th>\n",
       "      <td>0</td>\n",
       "      <td>NaN</td>\n",
       "      <td>NaN</td>\n",
       "      <td>ওয়ও আমি গর্বিত বাঙ্গালি</td>\n",
       "      <td>1</td>\n",
       "    </tr>\n",
       "    <tr>\n",
       "      <th>1</th>\n",
       "      <td>1</td>\n",
       "      <td>NaN</td>\n",
       "      <td>NaN</td>\n",
       "      <td>বাংলাদেশ এর কিছু মানুষ নিজে কিছু করতে পারবেনা ...</td>\n",
       "      <td>0</td>\n",
       "    </tr>\n",
       "    <tr>\n",
       "      <th>2</th>\n",
       "      <td>2</td>\n",
       "      <td>NaN</td>\n",
       "      <td>NaN</td>\n",
       "      <td>রামোসের ঘুম আসে না</td>\n",
       "      <td>0</td>\n",
       "    </tr>\n",
       "    <tr>\n",
       "      <th>3</th>\n",
       "      <td>3</td>\n",
       "      <td>NaN</td>\n",
       "      <td>NaN</td>\n",
       "      <td>কোহলির প্রতি শ্রদ্ধা হারিয়ে ফেলছি</td>\n",
       "      <td>1</td>\n",
       "    </tr>\n",
       "    <tr>\n",
       "      <th>4</th>\n",
       "      <td>4</td>\n",
       "      <td>NaN</td>\n",
       "      <td>NaN</td>\n",
       "      <td>থ্যাঙ্ক ইউ মাছরাঙ্গা টেলিভিশনকিন্তু ছাপোষা আন্...</td>\n",
       "      <td>0</td>\n",
       "    </tr>\n",
       "    <tr>\n",
       "      <th>...</th>\n",
       "      <td>...</td>\n",
       "      <td>...</td>\n",
       "      <td>...</td>\n",
       "      <td>...</td>\n",
       "      <td>...</td>\n",
       "    </tr>\n",
       "    <tr>\n",
       "      <th>6647</th>\n",
       "      <td>6647</td>\n",
       "      <td>NaN</td>\n",
       "      <td>NaN</td>\n",
       "      <td>আমি কখনো আশা করিনি যে আমি আমার স্বপ্নের প্রিয় ...</td>\n",
       "      <td>1</td>\n",
       "    </tr>\n",
       "    <tr>\n",
       "      <th>6648</th>\n",
       "      <td>6648</td>\n",
       "      <td>NaN</td>\n",
       "      <td>NaN</td>\n",
       "      <td>মিডিয়া লিটনকে একজন খারাপ মানুষ হিসেবে প্রতিষ্ঠ...</td>\n",
       "      <td>0</td>\n",
       "    </tr>\n",
       "    <tr>\n",
       "      <th>6649</th>\n",
       "      <td>6649</td>\n",
       "      <td>NaN</td>\n",
       "      <td>NaN</td>\n",
       "      <td>বাংলাদেশের জন্ম কিংবা তার পূর্বের ইতিহাস অনেকে...</td>\n",
       "      <td>0</td>\n",
       "    </tr>\n",
       "    <tr>\n",
       "      <th>6650</th>\n",
       "      <td>6650</td>\n",
       "      <td>NaN</td>\n",
       "      <td>NaN</td>\n",
       "      <td>আপনারা সিম নিবন্দন করালেন বাংলাদেশে অপরাধ কমবে...</td>\n",
       "      <td>0</td>\n",
       "    </tr>\n",
       "    <tr>\n",
       "      <th>6651</th>\n",
       "      <td>6651</td>\n",
       "      <td>NaN</td>\n",
       "      <td>NaN</td>\n",
       "      <td>কত দিন যে মোবাইল ছুড়ে ফেলতে ইচ্ছা হয়েছে তার ...</td>\n",
       "      <td>0</td>\n",
       "    </tr>\n",
       "  </tbody>\n",
       "</table>\n",
       "<p>6652 rows × 5 columns</p>\n",
       "</div>"
      ],
      "text/plain": [
       "      Unnamed: 0  Unnamed: 1  Unnamed: 2  \\\n",
       "0              0         NaN         NaN   \n",
       "1              1         NaN         NaN   \n",
       "2              2         NaN         NaN   \n",
       "3              3         NaN         NaN   \n",
       "4              4         NaN         NaN   \n",
       "...          ...         ...         ...   \n",
       "6647        6647         NaN         NaN   \n",
       "6648        6648         NaN         NaN   \n",
       "6649        6649         NaN         NaN   \n",
       "6650        6650         NaN         NaN   \n",
       "6651        6651         NaN         NaN   \n",
       "\n",
       "                                               sentence  sentiment  \n",
       "0                               ওয়ও আমি গর্বিত বাঙ্গালি          1  \n",
       "1     বাংলাদেশ এর কিছু মানুষ নিজে কিছু করতে পারবেনা ...          0  \n",
       "2                                    রামোসের ঘুম আসে না          0  \n",
       "3                     কোহলির প্রতি শ্রদ্ধা হারিয়ে ফেলছি          1  \n",
       "4     থ্যাঙ্ক ইউ মাছরাঙ্গা টেলিভিশনকিন্তু ছাপোষা আন্...          0  \n",
       "...                                                 ...        ...  \n",
       "6647  আমি কখনো আশা করিনি যে আমি আমার স্বপ্নের প্রিয় ...          1  \n",
       "6648  মিডিয়া লিটনকে একজন খারাপ মানুষ হিসেবে প্রতিষ্ঠ...          0  \n",
       "6649  বাংলাদেশের জন্ম কিংবা তার পূর্বের ইতিহাস অনেকে...          0  \n",
       "6650  আপনারা সিম নিবন্দন করালেন বাংলাদেশে অপরাধ কমবে...          0  \n",
       "6651  কত দিন যে মোবাইল ছুড়ে ফেলতে ইচ্ছা হয়েছে তার ...          0  \n",
       "\n",
       "[6652 rows x 5 columns]"
      ]
     },
     "metadata": {},
     "output_type": "display_data"
    }
   ],
   "source": [
    "df=pd.read_excel('/kaggle/input/pseudolabel/predicted_unsupervised_sentiment.xlsx')\n",
    "display(df)"
   ]
  },
  {
   "cell_type": "markdown",
   "execution_count": null,
   "metadata": {
    "papermill": {
     "duration": 0.010147,
     "end_time": "2020-08-29T09:36:25.775608",
     "exception": false,
     "start_time": "2020-08-29T09:36:25.765461",
     "status": "completed"
    },
    "tags": []
   },
   "source": [
    "Now we will visualize the ratio of Postive and Negative sentiment.We can see that the ratio is closly 1:1.Which is considered as a good balance."
   ]
  },
  {
   "cell_type": "code",
   "execution_count": 4,
   "metadata": {
    "execution": {
     "iopub.execute_input": "2020-08-29T09:36:25.806555Z",
     "iopub.status.busy": "2020-08-29T09:36:25.805699Z",
     "iopub.status.idle": "2020-08-29T09:36:26.033378Z",
     "shell.execute_reply": "2020-08-29T09:36:26.032638Z"
    },
    "papermill": {
     "duration": 0.24749,
     "end_time": "2020-08-29T09:36:26.033522",
     "exception": false,
     "start_time": "2020-08-29T09:36:25.786032",
     "status": "completed"
    },
    "tags": []
   },
   "outputs": [
    {
     "data": {
      "image/png": "[encoded data removed]",
      "text/plain": [
       "<Figure size 432x288 with 1 Axes>"
      ]
     },
     "metadata": {
      "needs_background": "light"
     },
     "output_type": "display_data"
    }
   ],
   "source": [
    "sns.countplot(df['sentiment']);"
   ]
  },
  {
   "cell_type": "markdown",
   "execution_count": null,
   "metadata": {
    "papermill": {
     "duration": 0.010247,
     "end_time": "2020-08-29T09:36:26.054394",
     "exception": false,
     "start_time": "2020-08-29T09:36:26.044147",
     "status": "completed"
    },
    "tags": []
   },
   "source": [
    "# Data Preprocessing\n",
    "At first we will clean the dataset with my predefined function preprocessing()."
   ]
  },
  {
   "cell_type": "code",
   "execution_count": 5,
   "metadata": {
    "execution": {
     "iopub.execute_input": "2020-08-29T09:36:26.092237Z",
     "iopub.status.busy": "2020-08-29T09:36:26.087017Z",
     "iopub.status.idle": "2020-08-29T09:36:26.408188Z",
     "shell.execute_reply": "2020-08-29T09:36:26.407407Z"
    },
    "papermill": {
     "duration": 0.343238,
     "end_time": "2020-08-29T09:36:26.408317",
     "exception": false,
     "start_time": "2020-08-29T09:36:26.065079",
     "status": "completed"
    },
    "tags": []
   },
   "outputs": [],
   "source": [
    "df['sentence'] = df.sentence.apply(lambda x: preprocessing(str(x)))"
   ]
  },
  {
   "cell_type": "code",
   "execution_count": 6,
   "metadata": {
    "execution": {
     "iopub.execute_input": "2020-08-29T09:36:26.436809Z",
     "iopub.status.busy": "2020-08-29T09:36:26.435760Z",
     "iopub.status.idle": "2020-08-29T09:36:26.439100Z",
     "shell.execute_reply": "2020-08-29T09:36:26.438502Z"
    },
    "papermill": {
     "duration": 0.019937,
     "end_time": "2020-08-29T09:36:26.439290",
     "exception": false,
     "start_time": "2020-08-29T09:36:26.419353",
     "status": "completed"
    },
    "tags": []
   },
   "outputs": [],
   "source": [
    "df.reset_index(drop=True, inplace=True)"
   ]
  },
  {
   "cell_type": "markdown",
   "execution_count": null,
   "metadata": {
    "papermill": {
     "duration": 0.010308,
     "end_time": "2020-08-29T09:36:26.460311",
     "exception": false,
     "start_time": "2020-08-29T09:36:26.450003",
     "status": "completed"
    },
    "tags": []
   },
   "source": [
    "Now I will prepare the dataset to train in the CNN LSTM network.So i have to convert all Sentences into a numpy Array.\n",
    "\n",
    "I have divided the training and testing data into 80/20 ratio.\n",
    "\n",
    "I have converted the sentiment values into one hot encodings for the convenient use in model training.\n"
   ]
  },
  {
   "cell_type": "code",
   "execution_count": 7,
   "metadata": {
    "execution": {
     "iopub.execute_input": "2020-08-29T09:36:26.498814Z",
     "iopub.status.busy": "2020-08-29T09:36:26.497605Z",
     "iopub.status.idle": "2020-08-29T09:36:26.620647Z",
     "shell.execute_reply": "2020-08-29T09:36:26.619161Z"
    },
    "papermill": {
     "duration": 0.149615,
     "end_time": "2020-08-29T09:36:26.620833",
     "exception": false,
     "start_time": "2020-08-29T09:36:26.471218",
     "status": "completed"
    },
    "tags": []
   },
   "outputs": [
    {
     "name": "stdout",
     "output_type": "stream",
     "text": [
      "Training Set Length: 5321\n",
      "Testing Set Length: 1331\n",
      "training_sentences shape: (5321,)\n",
      "testing_sentences shape: (1331,)\n",
      "train_labels shape: (5321, 2)\n",
      "test_labels shape: (1331, 2)\n"
     ]
    }
   ],
   "source": [
    "train1, test1 = train_test_split(df,random_state=69, test_size=0.2)\n",
    "training_sentences = []\n",
    "testing_sentences = []\n",
    "\n",
    "\n",
    "\n",
    "train_sentences=train1['sentence'].values\n",
    "train_labels=train1['sentiment'].values\n",
    "for i in range(train_sentences.shape[0]): \n",
    "    #print(train_sentences[i])\n",
    "    x=str(train_sentences[i])\n",
    "    training_sentences.append(x)\n",
    "    \n",
    "training_sentences=np.array(training_sentences)\n",
    "\n",
    "\n",
    "\n",
    "\n",
    "\n",
    "test_sentences=test1['sentence'].values\n",
    "test_labels=test1['sentiment'].values\n",
    "\n",
    "for i in range(test_sentences.shape[0]): \n",
    "    x=str(test_sentences[i])\n",
    "    testing_sentences.append(x)\n",
    "    \n",
    "testing_sentences=np.array(testing_sentences)\n",
    "\n",
    "\n",
    "train_labels=keras.utils.to_categorical(train_labels)\n",
    "\n",
    "\n",
    "test_labels=keras.utils.to_categorical(test_labels)\n",
    "print(\"Training Set Length: \"+str(len(train1)))\n",
    "print(\"Testing Set Length: \"+str(len(test1)))\n",
    "print(\"training_sentences shape: \"+str(training_sentences.shape))\n",
    "print(\"testing_sentences shape: \"+str(testing_sentences.shape))\n",
    "print(\"train_labels shape: \"+str(train_labels.shape))\n",
    "print(\"test_labels shape: \"+str(test_labels.shape))\n"
   ]
  },
  {
   "cell_type": "markdown",
   "execution_count": null,
   "metadata": {
    "papermill": {
     "duration": 0.010413,
     "end_time": "2020-08-29T09:36:26.642686",
     "exception": false,
     "start_time": "2020-08-29T09:36:26.632273",
     "status": "completed"
    },
    "tags": []
   },
   "source": [
    "The Processed result is here what you see:"
   ]
  },
  {
   "cell_type": "code",
   "execution_count": 8,
   "metadata": {
    "execution": {
     "iopub.execute_input": "2020-08-29T09:36:26.670803Z",
     "iopub.status.busy": "2020-08-29T09:36:26.670015Z",
     "iopub.status.idle": "2020-08-29T09:36:26.674314Z",
     "shell.execute_reply": "2020-08-29T09:36:26.673563Z"
    },
    "papermill": {
     "duration": 0.020899,
     "end_time": "2020-08-29T09:36:26.674467",
     "exception": false,
     "start_time": "2020-08-29T09:36:26.653568",
     "status": "completed"
    },
    "tags": []
   },
   "outputs": [
    {
     "name": "stdout",
     "output_type": "stream",
     "text": [
      "দেশের প্রধান যে সেই করছে অপরাধ তোমরা সিম নিয়ে অপরাধ বন্ধ করবে পাগল যত সব\n",
      "[1. 0.]\n"
     ]
    }
   ],
   "source": [
    "print(training_sentences[1])\n",
    "print(train_labels[0])"
   ]
  },
  {
   "cell_type": "markdown",
   "execution_count": null,
   "metadata": {
    "papermill": {
     "duration": 0.01087,
     "end_time": "2020-08-29T09:36:26.696569",
     "exception": false,
     "start_time": "2020-08-29T09:36:26.685699",
     "status": "completed"
    },
    "tags": []
   },
   "source": [
    "Now i will predefine some variables.\n",
    "\n",
    "vocab_size is the maximum vocabulary length of Tokenizer.\n",
    "\n",
    "KERAS tokenzier allows to vectorize a text corpus, by turning each text into either a sequence of integers (each integer being the index of a token in a dictionary) or into a vector where the coefficient for each token could be binary, based on word count, based on tf-idf...\n",
    "\n",
    "I will be tokenizing my dataset with this class here.I have did this tokenization so that it can be later used to generate Embeddings.\n",
    "\n",
    "The main advantage of word embedding is that words that share a similar context can be represented close to each other in the vector space. Thus, vectors carry a sense of semantic of a word.\n",
    "\n",
    "I have predefined the embedding dimension as 300(embedding_dim).\n",
    "\n",
    "max_length is the sentence maximum length.\n",
    "\n",
    "trunc_type is the truncation type.\n",
    "\n",
    "oov_token is the token for the words that are not present in the corpus.oov means out of vocabulary."
   ]
  },
  {
   "cell_type": "code",
   "execution_count": 9,
   "metadata": {
    "execution": {
     "iopub.execute_input": "2020-08-29T09:36:26.726011Z",
     "iopub.status.busy": "2020-08-29T09:36:26.724863Z",
     "iopub.status.idle": "2020-08-29T09:36:26.728118Z",
     "shell.execute_reply": "2020-08-29T09:36:26.727446Z"
    },
    "papermill": {
     "duration": 0.02028,
     "end_time": "2020-08-29T09:36:26.728248",
     "exception": false,
     "start_time": "2020-08-29T09:36:26.707968",
     "status": "completed"
    },
    "tags": []
   },
   "outputs": [],
   "source": [
    "vocab_size = 25000\n",
    "embedding_dim = 300\n",
    "max_length = 100\n",
    "trunc_type='post'\n",
    "oov_tok = \"<OOV>\""
   ]
  },
  {
   "cell_type": "code",
   "execution_count": 10,
   "metadata": {
    "execution": {
     "iopub.execute_input": "2020-08-29T09:36:26.756605Z",
     "iopub.status.busy": "2020-08-29T09:36:26.755773Z",
     "iopub.status.idle": "2020-08-29T09:36:26.760382Z",
     "shell.execute_reply": "2020-08-29T09:36:26.759595Z"
    },
    "papermill": {
     "duration": 0.02122,
     "end_time": "2020-08-29T09:36:26.760560",
     "exception": false,
     "start_time": "2020-08-29T09:36:26.739340",
     "status": "completed"
    },
    "tags": []
   },
   "outputs": [
    {
     "name": "stdout",
     "output_type": "stream",
     "text": [
      "(5321,)\n",
      "(5321, 2)\n"
     ]
    }
   ],
   "source": [
    "print(training_sentences.shape)\n",
    "print(train_labels.shape)"
   ]
  },
  {
   "cell_type": "markdown",
   "execution_count": null,
   "metadata": {
    "papermill": {
     "duration": 0.010435,
     "end_time": "2020-08-29T09:36:26.782197",
     "exception": false,
     "start_time": "2020-08-29T09:36:26.771762",
     "status": "completed"
    },
    "tags": []
   },
   "source": [
    "At first i will tokenize and then i will be padding the sequences.I have used tokenizer only on training dataset to see how the model performs on unseen words."
   ]
  },
  {
   "cell_type": "code",
   "execution_count": 11,
   "metadata": {
    "execution": {
     "iopub.execute_input": "2020-08-29T09:36:26.838716Z",
     "iopub.status.busy": "2020-08-29T09:36:26.833416Z",
     "iopub.status.idle": "2020-08-29T09:36:27.475648Z",
     "shell.execute_reply": "2020-08-29T09:36:27.474948Z"
    },
    "papermill": {
     "duration": 0.682778,
     "end_time": "2020-08-29T09:36:27.475798",
     "exception": false,
     "start_time": "2020-08-29T09:36:26.793020",
     "status": "completed"
    },
    "tags": []
   },
   "outputs": [
    {
     "name": "stdout",
     "output_type": "stream",
     "text": [
      "18247\n",
      "Word index length:18247\n"
     ]
    }
   ],
   "source": [
    "tokenizer = Tokenizer(num_words = vocab_size, oov_token=oov_tok)\n",
    "tokenizer.fit_on_texts(training_sentences)\n",
    "word_index = tokenizer.word_index\n",
    "print(len(word_index))\n",
    "print(\"Word index length:\"+str(len(tokenizer.word_index)))\n",
    "sequences = tokenizer.texts_to_sequences(training_sentences)\n",
    "padded = pad_sequences(sequences,maxlen=max_length, truncating=trunc_type)\n",
    "\n",
    "\n",
    "test_sequences = tokenizer.texts_to_sequences(testing_sentences)\n",
    "testing_padded = pad_sequences(test_sequences,maxlen=max_length)"
   ]
  },
  {
   "cell_type": "code",
   "execution_count": 12,
   "metadata": {
    "execution": {
     "iopub.execute_input": "2020-08-29T09:36:27.509504Z",
     "iopub.status.busy": "2020-08-29T09:36:27.508080Z",
     "iopub.status.idle": "2020-08-29T09:36:27.513977Z",
     "shell.execute_reply": "2020-08-29T09:36:27.513188Z"
    },
    "papermill": {
     "duration": 0.026912,
     "end_time": "2020-08-29T09:36:27.514109",
     "exception": false,
     "start_time": "2020-08-29T09:36:27.487197",
     "status": "completed"
    },
    "tags": []
   },
   "outputs": [
    {
     "name": "stdout",
     "output_type": "stream",
     "text": [
      "Sentence :--> \n",
      "\n",
      "এখনো শ্রীলঙ্কার ব্যাটিংয়ের কোনো মানে খুঁজে পাওয়া যাচ্ছে না\n",
      "\n",
      "Sentence Tokenized and Converted into Sequence :--> \n",
      "\n",
      "[263, 4331, 6803, 108, 473, 602, 317, 439, 2]\n",
      "\n",
      "After Padding the Sequence with padding length 100 :--> \n",
      "\n",
      "[   0    0    0    0    0    0    0    0    0    0    0    0    0    0\n",
      "    0    0    0    0    0    0    0    0    0    0    0    0    0    0\n",
      "    0    0    0    0    0    0    0    0    0    0    0    0    0    0\n",
      "    0    0    0    0    0    0    0    0    0    0    0    0    0    0\n",
      "    0    0    0    0    0    0    0    0    0    0    0    0    0    0\n",
      "    0    0    0    0    0    0    0    0    0    0    0    0    0    0\n",
      "    0    0    0    0    0    0    0  263 4331 6803  108  473  602  317\n",
      "  439    2]\n"
     ]
    }
   ],
   "source": [
    "print(\"Sentence :--> \\n\")\n",
    "print(training_sentences[2]+\"\\n\")\n",
    "print(\"Sentence Tokenized and Converted into Sequence :--> \\n\")\n",
    "print(str(sequences[2])+\"\\n\")\n",
    "print(\"After Padding the Sequence with padding length 100 :--> \\n\")\n",
    "print(padded[2])"
   ]
  },
  {
   "cell_type": "code",
   "execution_count": 13,
   "metadata": {
    "execution": {
     "iopub.execute_input": "2020-08-29T09:36:27.543526Z",
     "iopub.status.busy": "2020-08-29T09:36:27.542369Z",
     "iopub.status.idle": "2020-08-29T09:36:27.546103Z",
     "shell.execute_reply": "2020-08-29T09:36:27.546711Z"
    },
    "papermill": {
     "duration": 0.021501,
     "end_time": "2020-08-29T09:36:27.546874",
     "exception": false,
     "start_time": "2020-08-29T09:36:27.525373",
     "status": "completed"
    },
    "tags": []
   },
   "outputs": [
    {
     "name": "stdout",
     "output_type": "stream",
     "text": [
      "Padded shape(training): (5321, 100)\n",
      "Padded shape(testing): (1331, 100)\n"
     ]
    }
   ],
   "source": [
    "print(\"Padded shape(training): \"+str(padded.shape))\n",
    "print(\"Padded shape(testing): \"+str(testing_padded.shape))"
   ]
  },
  {
   "cell_type": "markdown",
   "execution_count": null,
   "metadata": {
    "papermill": {
     "duration": 0.010891,
     "end_time": "2020-08-29T09:36:27.569346",
     "exception": false,
     "start_time": "2020-08-29T09:36:27.558455",
     "status": "completed"
    },
    "tags": []
   },
   "source": [
    "# Model Creation\n",
    "At first i have created embeddings from the text.\n",
    "\n",
    "In first layer,i created an conv1D with 200 as filter for CNN.\n",
    "\n",
    "In second & third layer,i have applied two Bi-LSTM with a dropout of .5.\n",
    "\n",
    "In rest of the layer i have applied Dense network.\n",
    "\n",
    "I have used Adap Optimizer with fine tuned hyperparameters.\n",
    "\n",
    "I have also applied L2 regularizations to reduce overfitting as much as possible."
   ]
  },
  {
   "cell_type": "code",
   "execution_count": 14,
   "metadata": {
    "execution": {
     "iopub.execute_input": "2020-08-29T09:36:27.654474Z",
     "iopub.status.busy": "2020-08-29T09:36:27.609646Z",
     "iopub.status.idle": "2020-08-29T09:36:29.255587Z",
     "shell.execute_reply": "2020-08-29T09:36:29.256625Z"
    },
    "papermill": {
     "duration": 1.676288,
     "end_time": "2020-08-29T09:36:29.256866",
     "exception": false,
     "start_time": "2020-08-29T09:36:27.580578",
     "status": "completed"
    },
    "scrolled": false,
    "tags": []
   },
   "outputs": [
    {
     "name": "stdout",
     "output_type": "stream",
     "text": [
      "Model: \"sequential\"\n",
      "_________________________________________________________________\n",
      "Layer (type)                 Output Shape              Param #   \n",
      "=================================================================\n",
      "embedding (Embedding)        (None, 100, 300)          7500000   \n",
      "_________________________________________________________________\n",
      "conv1d (Conv1D)              (None, 98, 200)           180200    \n",
      "_________________________________________________________________\n",
      "bidirectional (Bidirectional (None, 98, 128)           135680    \n",
      "_________________________________________________________________\n",
      "dropout (Dropout)            (None, 98, 128)           0         \n",
      "_________________________________________________________________\n",
      "bidirectional_1 (Bidirection (None, 128)               98816     \n",
      "_________________________________________________________________\n",
      "dense (Dense)                (None, 50)                6450      \n",
      "_________________________________________________________________\n",
      "dense_1 (Dense)              (None, 50)                2550      \n",
      "_________________________________________________________________\n",
      "flatten (Flatten)            (None, 50)                0         \n",
      "_________________________________________________________________\n",
      "dense_2 (Dense)              (None, 100)               5100      \n",
      "_________________________________________________________________\n",
      "dense_3 (Dense)              (None, 2)                 202       \n",
      "=================================================================\n",
      "Total params: 7,928,998\n",
      "Trainable params: 7,928,998\n",
      "Non-trainable params: 0\n",
      "_________________________________________________________________\n"
     ]
    }
   ],
   "source": [
    "with tf.device('/gpu:0'):\n",
    "    model= Sequential()\n",
    "    model.add(Embedding(vocab_size, embedding_dim, input_length=max_length))\n",
    "    model.add(Conv1D(200, kernel_size=3, activation = \"relu\"))\n",
    "    model.add(Bidirectional(LSTM(64, return_sequences=True)))\n",
    "    model.add(Dropout(0.5))\n",
    "    model.add(Bidirectional(LSTM(64)))\n",
    "    model.add(Dense(50, activation='relu'))\n",
    "    model.add(Dense(50, activation='relu'))\n",
    "    model.add(Flatten())\n",
    "    #l2 regularizer\n",
    "    model.add(Dense(100,kernel_regularizer=regularizers.l2(0.01),activation=\"relu\"))\n",
    "    model.add(Dense(2, activation='softmax'))\n",
    "    #sgd= SGD(lr=0.0001,decay=1e-6,momentum=0.9,nesterov=True)\n",
    "    adam=Adam(learning_rate=0.0005,beta_1=0.9,beta_2=0.999,epsilon=1e-07,amsgrad=False)\n",
    "    model.summary()\n",
    "    model.compile(loss='categorical_crossentropy',optimizer=adam,metrics=['accuracy'])"
   ]
  },
  {
   "cell_type": "markdown",
   "execution_count": null,
   "metadata": {
    "papermill": {
     "duration": 0.011167,
     "end_time": "2020-08-29T09:36:29.280669",
     "exception": false,
     "start_time": "2020-08-29T09:36:29.269502",
     "status": "completed"
    },
    "tags": []
   },
   "source": [
    "I trained the model for 5 epochs with batch size 256."
   ]
  },
  {
   "cell_type": "code",
   "execution_count": 15,
   "metadata": {
    "execution": {
     "iopub.execute_input": "2020-08-29T09:36:29.311730Z",
     "iopub.status.busy": "2020-08-29T09:36:29.310823Z",
     "iopub.status.idle": "2020-08-29T09:38:37.443524Z",
     "shell.execute_reply": "2020-08-29T09:38:37.444669Z"
    },
    "papermill": {
     "duration": 128.152726,
     "end_time": "2020-08-29T09:38:37.444972",
     "exception": false,
     "start_time": "2020-08-29T09:36:29.292246",
     "status": "completed"
    },
    "tags": []
   },
   "outputs": [
    {
     "name": "stdout",
     "output_type": "stream",
     "text": [
      "Epoch 1/5\n",
      "21/21 [==============================] - 24s 1s/step - loss: 1.3032 - accuracy: 0.5584 - val_loss: 1.2314 - val_accuracy: 0.6003\n",
      "Epoch 2/5\n",
      "21/21 [==============================] - 23s 1s/step - loss: 1.1353 - accuracy: 0.6563 - val_loss: 1.0007 - val_accuracy: 0.7618\n",
      "Epoch 3/5\n",
      "21/21 [==============================] - 23s 1s/step - loss: 0.7141 - accuracy: 0.8987 - val_loss: 0.8957 - val_accuracy: 0.8234\n",
      "Epoch 4/5\n",
      "21/21 [==============================] - 22s 1s/step - loss: 0.4700 - accuracy: 0.9759 - val_loss: 0.9260 - val_accuracy: 0.8422\n",
      "Epoch 5/5\n",
      "21/21 [==============================] - 23s 1s/step - loss: 0.3627 - accuracy: 0.9927 - val_loss: 1.0025 - val_accuracy: 0.8407\n"
     ]
    }
   ],
   "source": [
    "    history=model.fit(padded,train_labels,epochs=5,batch_size=256,validation_data=(testing_padded,test_labels),use_multiprocessing=True, workers=8)"
   ]
  },
  {
   "cell_type": "markdown",
   "execution_count": null,
   "metadata": {
    "papermill": {
     "duration": 0.019192,
     "end_time": "2020-08-29T09:38:37.483583",
     "exception": false,
     "start_time": "2020-08-29T09:38:37.464391",
     "status": "completed"
    },
    "tags": []
   },
   "source": []
  },
  {
   "cell_type": "markdown",
   "execution_count": null,
   "metadata": {
    "papermill": {
     "duration": 0.018598,
     "end_time": "2020-08-29T09:38:37.521676",
     "exception": false,
     "start_time": "2020-08-29T09:38:37.503078",
     "status": "completed"
    },
    "tags": []
   },
   "source": [
    "# Visualization"
   ]
  },
  {
   "cell_type": "code",
   "execution_count": 16,
   "metadata": {
    "execution": {
     "iopub.execute_input": "2020-08-29T09:38:37.581894Z",
     "iopub.status.busy": "2020-08-29T09:38:37.572994Z",
     "iopub.status.idle": "2020-08-29T09:38:38.037272Z",
     "shell.execute_reply": "2020-08-29T09:38:38.036479Z"
    },
    "papermill": {
     "duration": 0.496359,
     "end_time": "2020-08-29T09:38:38.037405",
     "exception": false,
     "start_time": "2020-08-29T09:38:37.541046",
     "status": "completed"
    },
    "tags": []
   },
   "outputs": [
    {
     "name": "stdout",
     "output_type": "stream",
     "text": [
      "dict_keys(['loss', 'accuracy', 'val_loss', 'val_accuracy'])\n"
     ]
    },
    {
     "data": {
      "image/png": "[encoded data removed]",
      "text/plain": [
       "<Figure size 432x288 with 1 Axes>"
      ]
     },
     "metadata": {
      "needs_background": "light"
     },
     "output_type": "display_data"
    },
    {
     "data": {
      "image/png": "[encoded data removed]",
      "text/plain": [
       "<Figure size 432x288 with 1 Axes>"
      ]
     },
     "metadata": {
      "needs_background": "light"
     },
     "output_type": "display_data"
    }
   ],
   "source": [
    "print(history.history.keys())\n",
    "loss = history.history['loss']\n",
    "val_loss = history.history['val_loss']\n",
    "plt.plot(loss)\n",
    "plt.plot(val_loss)\n",
    "plt.title('model loss')\n",
    "plt.ylabel('loss')\n",
    "plt.xlabel('epoch')\n",
    "plt.legend(['loss', 'val_loss'])\n",
    "plt.show()\n",
    "\n",
    "accuracy = history.history['accuracy']\n",
    "val_accuracy= history.history['val_accuracy']\n",
    "plt.plot(accuracy)\n",
    "plt.plot(val_accuracy)\n",
    "plt.title('model accuracy')\n",
    "plt.ylabel('accuracy')\n",
    "plt.xlabel('epoch')\n",
    "plt.legend(['accuracy', 'val_accuracy'])\n",
    "plt.show()"
   ]
  },
  {
   "cell_type": "markdown",
   "execution_count": null,
   "metadata": {
    "papermill": {
     "duration": 0.023061,
     "end_time": "2020-08-29T09:38:38.080221",
     "exception": false,
     "start_time": "2020-08-29T09:38:38.057160",
     "status": "completed"
    },
    "tags": []
   },
   "source": [
    "# Accuracy and Evaluation"
   ]
  },
  {
   "cell_type": "code",
   "execution_count": 17,
   "metadata": {
    "execution": {
     "iopub.execute_input": "2020-08-29T09:38:38.139699Z",
     "iopub.status.busy": "2020-08-29T09:38:38.138694Z",
     "iopub.status.idle": "2020-08-29T09:38:45.824071Z",
     "shell.execute_reply": "2020-08-29T09:38:45.823402Z"
    },
    "papermill": {
     "duration": 7.718225,
     "end_time": "2020-08-29T09:38:45.824208",
     "exception": false,
     "start_time": "2020-08-29T09:38:38.105983",
     "status": "completed"
    },
    "tags": []
   },
   "outputs": [
    {
     "name": "stdout",
     "output_type": "stream",
     "text": [
      "21/21 [==============================] - 6s 277ms/step - loss: 0.3219 - accuracy: 0.9972\n",
      "The train accuracy is: 0.9971809983253479\n",
      "6/6 [==============================] - 1s 200ms/step - loss: 1.0025 - accuracy: 0.8407\n",
      "The test accuracy is: 0.8407212495803833\n"
     ]
    }
   ],
   "source": [
    "#accuracy calculation\n",
    "loss_and_metrics = model.evaluate(padded,train_labels,batch_size=256)\n",
    "print(\"The train accuracy is: \"+str(loss_and_metrics[1]))\n",
    "loss_and_metrics = model.evaluate(testing_padded,test_labels,batch_size=256)\n",
    "print(\"The test accuracy is: \"+str(loss_and_metrics[1]))"
   ]
  },
  {
   "cell_type": "markdown",
   "execution_count": null,
   "metadata": {
    "papermill": {
     "duration": 0.020779,
     "end_time": "2020-08-29T09:38:45.866851",
     "exception": false,
     "start_time": "2020-08-29T09:38:45.846072",
     "status": "completed"
    },
    "tags": []
   },
   "source": [
    "# Conclusion\n",
    "As we can see that the result is somewhat overfitting.This is because the dataset is very small to work with with deep learning.But my main focus of this notebook was to see what is the result of bangla sentiment analysis if i use a hybrid network."
   ]
  },
  {
   "cell_type": "code",
   "execution_count": null,
   "metadata": {
    "papermill": {
     "duration": 0.020894,
     "end_time": "2020-08-29T09:38:45.908871",
     "exception": false,
     "start_time": "2020-08-29T09:38:45.887977",
     "status": "completed"
    },
    "tags": []
   },
   "outputs": [],
   "source": []
  }
 ],
 "metadata": {
  "kernelspec": {
   "display_name": "Python 3",
   "language": "python",
   "name": "python3"
  },
  "language_info": {
   "codemirror_mode": {
    "name": "ipython",
    "version": 3
   },
   "file_extension": ".py",
   "mimetype": "text/x-python",
   "name": "python",
   "nbconvert_exporter": "python",
   "pygments_lexer": "ipython3",
   "version": "3.7.6"
  },
  "papermill": {
   "duration": 155.662062,
   "end_time": "2020-08-29T09:38:46.039670",
   "environment_variables": {},
   "exception": null,
   "input_path": "__notebook__.ipynb",
   "output_path": "__notebook__.ipynb",
   "parameters": {},
   "start_time": "2020-08-29T09:36:10.377608",
   "version": "2.1.0"
  }
 },
 "nbformat": 4,
 "nbformat_minor": 4
}
